{
  "nbformat": 4,
  "nbformat_minor": 0,
  "metadata": {
    "colab": {
      "provenance": [],
      "authorship_tag": "ABX9TyORtjpQb7zU77Ziaz8gRvFK",
      "include_colab_link": true
    },
    "kernelspec": {
      "name": "python3",
      "display_name": "Python 3"
    },
    "language_info": {
      "name": "python"
    }
  },
  "cells": [
    {
      "cell_type": "markdown",
      "metadata": {
        "id": "view-in-github",
        "colab_type": "text"
      },
      "source": [
        "<a href=\"https://colab.research.google.com/github/CamillaViana/novo-projeto-test/blob/main/projetofinalcalculadora.ipynb\" target=\"_parent\"><img src=\"https://colab.research.google.com/assets/colab-badge.svg\" alt=\"Open In Colab\"/></a>"
      ]
    },
    {
      "cell_type": "code",
      "execution_count": 17,
      "metadata": {
        "colab": {
          "base_uri": "https://localhost:8080/"
        },
        "id": "DPfJlfcepEgr",
        "outputId": "3e0b47a5-2b9f-4b2d-e967-86b7649c2863"
      },
      "outputs": [
        {
          "output_type": "stream",
          "name": "stdout",
          "text": [
            "Bem-vindo ao conversor de moedas.\n",
            "Utilize o código de cada moeda para fazer a conversão.\n",
            "\n",
            "Digite o valor a ser convertido: 100\n",
            "Digite a moeda de origem (ex: USD):usd\n",
            "Digite a moeda de destino (ex: EUR):brl\n",
            "\n",
            "100.00  USD é equivalente a 490.00   BRL\n"
          ]
        }
      ],
      "source": [
        "import requests\n",
        "\n",
        "print('Bem-vindo ao conversor de moedas.\\nUtilize o código oficial de cada moeda para fazer a conversão.\\n')\n",
        "\n",
        "def obter_taxas():\n",
        "    url = \"https://api.exchangerate-api.com/v4/latest/USD\"\n",
        "    response = requests.get(url)\n",
        "    data = response.json()\n",
        "    return data['rates']\n",
        "\n",
        "\n",
        "def conveter_moedas(valor, moeda_origem, moeda_destino, taxas):\n",
        "     if moeda_origem in taxas and moeda_destino in taxas:\n",
        "        taxas_origem = taxas[moeda_origem]\n",
        "        taxas_destino = taxas[moeda_destino]\n",
        "        valor_em_usd = valor / taxas_origem\n",
        "        valor_convertido = valor_em_usd*taxas_destino\n",
        "        return valor_convertido\n",
        "     else:\n",
        "         return None\n",
        "\n",
        "taxa_de_cambio = obter_taxas()\n",
        "valor = float(input('Digite o valor a ser convertido: '))\n",
        "moeda_origem = input('Digite a moeda de origem (ex: USD):').upper()\n",
        "moeda_destino = input('Digite a moeda de destino (ex: EUR):').upper()\n",
        "\n",
        "valor_convertido = conveter_moedas(valor, moeda_origem, moeda_destino, taxa_de_cambio)\n",
        "\n",
        "if valor_convertido is not None:\n",
        "    print ( f'\\n{valor:.2f}  {moeda_origem} é equivalente a {valor_convertido:.2f}   {moeda_destino}')\n",
        "else:\n",
        "    print('Moeda não encontrada ou inválida')\n"
      ]
    }
  ]
}